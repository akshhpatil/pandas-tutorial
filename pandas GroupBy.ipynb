{
 "cells": [
  {
   "cell_type": "markdown",
   "id": "reasonable-rhythm",
   "metadata": {},
   "source": [
    "# pandas GroupBy\n",
    "pandas groupby fun is used to split the data into groups based on some criteria"
   ]
  },
  {
   "cell_type": "code",
   "execution_count": 1,
   "id": "lasting-effect",
   "metadata": {},
   "outputs": [],
   "source": [
    "import pandas as pd"
   ]
  },
  {
   "cell_type": "code",
   "execution_count": 2,
   "id": "geological-adelaide",
   "metadata": {},
   "outputs": [
    {
     "data": {
      "text/html": [
       "<div>\n",
       "<style scoped>\n",
       "    .dataframe tbody tr th:only-of-type {\n",
       "        vertical-align: middle;\n",
       "    }\n",
       "\n",
       "    .dataframe tbody tr th {\n",
       "        vertical-align: top;\n",
       "    }\n",
       "\n",
       "    .dataframe thead th {\n",
       "        text-align: right;\n",
       "    }\n",
       "</style>\n",
       "<table border=\"1\" class=\"dataframe\">\n",
       "  <thead>\n",
       "    <tr style=\"text-align: right;\">\n",
       "      <th></th>\n",
       "      <th>Age</th>\n",
       "      <th>Dates</th>\n",
       "      <th>Genders</th>\n",
       "      <th>Date</th>\n",
       "      <th>marks</th>\n",
       "    </tr>\n",
       "  </thead>\n",
       "  <tbody>\n",
       "    <tr>\n",
       "      <th>0</th>\n",
       "      <td>34</td>\n",
       "      <td>9/7/2012</td>\n",
       "      <td>5.0</td>\n",
       "      <td>7.0</td>\n",
       "      <td>10</td>\n",
       "    </tr>\n",
       "    <tr>\n",
       "      <th>1</th>\n",
       "      <td>56</td>\n",
       "      <td>12/4/2018</td>\n",
       "      <td>NaN</td>\n",
       "      <td>22.0</td>\n",
       "      <td>20</td>\n",
       "    </tr>\n",
       "    <tr>\n",
       "      <th>2</th>\n",
       "      <td>23</td>\n",
       "      <td>30/04/22</td>\n",
       "      <td>NaN</td>\n",
       "      <td>NaN</td>\n",
       "      <td>30</td>\n",
       "    </tr>\n",
       "    <tr>\n",
       "      <th>3</th>\n",
       "      <td>45</td>\n",
       "      <td>1/9/2022</td>\n",
       "      <td>2.0</td>\n",
       "      <td>556.0</td>\n",
       "      <td>40</td>\n",
       "    </tr>\n",
       "    <tr>\n",
       "      <th>4</th>\n",
       "      <td>34</td>\n",
       "      <td>9/7/2012</td>\n",
       "      <td>5.0</td>\n",
       "      <td>7.0</td>\n",
       "      <td>10</td>\n",
       "    </tr>\n",
       "    <tr>\n",
       "      <th>5</th>\n",
       "      <td>56</td>\n",
       "      <td>12/4/2018</td>\n",
       "      <td>7.0</td>\n",
       "      <td>22.0</td>\n",
       "      <td>20</td>\n",
       "    </tr>\n",
       "    <tr>\n",
       "      <th>6</th>\n",
       "      <td>23</td>\n",
       "      <td>30/04/22</td>\n",
       "      <td>5.0</td>\n",
       "      <td>NaN</td>\n",
       "      <td>30</td>\n",
       "    </tr>\n",
       "    <tr>\n",
       "      <th>7</th>\n",
       "      <td>45</td>\n",
       "      <td>1/9/2022</td>\n",
       "      <td>2.0</td>\n",
       "      <td>556.0</td>\n",
       "      <td>40</td>\n",
       "    </tr>\n",
       "  </tbody>\n",
       "</table>\n",
       "</div>"
      ],
      "text/plain": [
       "   Age      Dates  Genders   Date  marks\n",
       "0   34   9/7/2012      5.0    7.0     10\n",
       "1   56  12/4/2018      NaN   22.0     20\n",
       "2   23   30/04/22      NaN    NaN     30\n",
       "3   45   1/9/2022      2.0  556.0     40\n",
       "4   34   9/7/2012      5.0    7.0     10\n",
       "5   56  12/4/2018      7.0   22.0     20\n",
       "6   23   30/04/22      5.0    NaN     30\n",
       "7   45   1/9/2022      2.0  556.0     40"
      ]
     },
     "execution_count": 2,
     "metadata": {},
     "output_type": "execute_result"
    }
   ],
   "source": [
    "data =pd.read_csv('C:\\\\Users\\\\admin\\\\Desktop\\\\book1.csv')\n",
    "data"
   ]
  },
  {
   "cell_type": "code",
   "execution_count": 11,
   "id": "chicken-photograph",
   "metadata": {},
   "outputs": [],
   "source": [
    "gp = data.groupby( by = \"Age\")"
   ]
  },
  {
   "cell_type": "code",
   "execution_count": 12,
   "id": "heated-identity",
   "metadata": {},
   "outputs": [
    {
     "data": {
      "text/plain": [
       "<pandas.core.groupby.generic.DataFrameGroupBy object at 0x000001C42CAC6C70>"
      ]
     },
     "execution_count": 12,
     "metadata": {},
     "output_type": "execute_result"
    }
   ],
   "source": [
    "gp\n"
   ]
  },
  {
   "cell_type": "code",
   "execution_count": 13,
   "id": "pending-omega",
   "metadata": {},
   "outputs": [
    {
     "data": {
      "text/plain": [
       "{23: [2, 6], 34: [0, 4], 45: [3, 7], 56: [1, 5]}"
      ]
     },
     "execution_count": 13,
     "metadata": {},
     "output_type": "execute_result"
    }
   ],
   "source": [
    "gp.groups"
   ]
  },
  {
   "cell_type": "code",
   "execution_count": 14,
   "id": "composite-explosion",
   "metadata": {},
   "outputs": [],
   "source": [
    "gp = data.groupby( by = [\"Age\",'marks'])"
   ]
  },
  {
   "cell_type": "code",
   "execution_count": 15,
   "id": "bigger-blackjack",
   "metadata": {},
   "outputs": [
    {
     "data": {
      "text/plain": [
       "<pandas.core.groupby.generic.DataFrameGroupBy object at 0x000001C42CAC6160>"
      ]
     },
     "execution_count": 15,
     "metadata": {},
     "output_type": "execute_result"
    }
   ],
   "source": [
    "gp"
   ]
  },
  {
   "cell_type": "code",
   "execution_count": 16,
   "id": "improving-moral",
   "metadata": {},
   "outputs": [
    {
     "data": {
      "text/plain": [
       "{(23, 30): [2, 6], (34, 10): [0, 4], (45, 40): [3, 7], (56, 20): [1, 5]}"
      ]
     },
     "execution_count": 16,
     "metadata": {},
     "output_type": "execute_result"
    }
   ],
   "source": [
    "gp.groups"
   ]
  },
  {
   "cell_type": "code",
   "execution_count": 17,
   "id": "binary-quantity",
   "metadata": {},
   "outputs": [
    {
     "name": "stdout",
     "output_type": "stream",
     "text": [
      "(23, 30)\n",
      "   Age     Dates  Genders  Date  marks\n",
      "2   23  30/04/22      NaN   NaN     30\n",
      "6   23  30/04/22      5.0   NaN     30\n",
      "(34, 10)\n",
      "   Age     Dates  Genders  Date  marks\n",
      "0   34  9/7/2012      5.0   7.0     10\n",
      "4   34  9/7/2012      5.0   7.0     10\n",
      "(45, 40)\n",
      "   Age     Dates  Genders   Date  marks\n",
      "3   45  1/9/2022      2.0  556.0     40\n",
      "7   45  1/9/2022      2.0  556.0     40\n",
      "(56, 20)\n",
      "   Age      Dates  Genders  Date  marks\n",
      "1   56  12/4/2018      NaN  22.0     20\n",
      "5   56  12/4/2018      7.0  22.0     20\n"
     ]
    }
   ],
   "source": [
    "for Age,marks in gp:\n",
    "    print(Age)\n",
    "    print(marks)"
   ]
  },
  {
   "cell_type": "code",
   "execution_count": 20,
   "id": "nervous-discovery",
   "metadata": {},
   "outputs": [],
   "source": [
    "gp= data.groupby('Age').get_group(34)"
   ]
  },
  {
   "cell_type": "code",
   "execution_count": 21,
   "id": "polish-combination",
   "metadata": {},
   "outputs": [
    {
     "data": {
      "text/html": [
       "<div>\n",
       "<style scoped>\n",
       "    .dataframe tbody tr th:only-of-type {\n",
       "        vertical-align: middle;\n",
       "    }\n",
       "\n",
       "    .dataframe tbody tr th {\n",
       "        vertical-align: top;\n",
       "    }\n",
       "\n",
       "    .dataframe thead th {\n",
       "        text-align: right;\n",
       "    }\n",
       "</style>\n",
       "<table border=\"1\" class=\"dataframe\">\n",
       "  <thead>\n",
       "    <tr style=\"text-align: right;\">\n",
       "      <th></th>\n",
       "      <th>Age</th>\n",
       "      <th>Dates</th>\n",
       "      <th>Genders</th>\n",
       "      <th>Date</th>\n",
       "      <th>marks</th>\n",
       "    </tr>\n",
       "  </thead>\n",
       "  <tbody>\n",
       "    <tr>\n",
       "      <th>0</th>\n",
       "      <td>34</td>\n",
       "      <td>9/7/2012</td>\n",
       "      <td>5.0</td>\n",
       "      <td>7.0</td>\n",
       "      <td>10</td>\n",
       "    </tr>\n",
       "    <tr>\n",
       "      <th>4</th>\n",
       "      <td>34</td>\n",
       "      <td>9/7/2012</td>\n",
       "      <td>5.0</td>\n",
       "      <td>7.0</td>\n",
       "      <td>10</td>\n",
       "    </tr>\n",
       "  </tbody>\n",
       "</table>\n",
       "</div>"
      ],
      "text/plain": [
       "   Age     Dates  Genders  Date  marks\n",
       "0   34  9/7/2012      5.0   7.0     10\n",
       "4   34  9/7/2012      5.0   7.0     10"
      ]
     },
     "execution_count": 21,
     "metadata": {},
     "output_type": "execute_result"
    }
   ],
   "source": [
    "gp"
   ]
  },
  {
   "cell_type": "code",
   "execution_count": 22,
   "id": "accessory-postcard",
   "metadata": {},
   "outputs": [
    {
     "data": {
      "text/plain": [
       "Age        34.0\n",
       "Genders     5.0\n",
       "Date        7.0\n",
       "marks      10.0\n",
       "dtype: float64"
      ]
     },
     "execution_count": 22,
     "metadata": {},
     "output_type": "execute_result"
    }
   ],
   "source": [
    "gp.mean()"
   ]
  },
  {
   "cell_type": "code",
   "execution_count": null,
   "id": "economic-comedy",
   "metadata": {},
   "outputs": [],
   "source": []
  }
 ],
 "metadata": {
  "kernelspec": {
   "display_name": "Python 3",
   "language": "python",
   "name": "python3"
  },
  "language_info": {
   "codemirror_mode": {
    "name": "ipython",
    "version": 3
   },
   "file_extension": ".py",
   "mimetype": "text/x-python",
   "name": "python",
   "nbconvert_exporter": "python",
   "pygments_lexer": "ipython3",
   "version": "3.9.0"
  }
 },
 "nbformat": 4,
 "nbformat_minor": 5
}
